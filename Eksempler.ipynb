{
 "cells": [
  {
   "cell_type": "markdown",
   "id": "54eef991-8b74-49bc-8ba7-7cfac698e56c",
   "metadata": {},
   "source": [
    "# Eksempler imputering\n",
    "\n",
    "Laster først inn pakkene som skal bli brukt"
   ]
  },
  {
   "cell_type": "code",
   "execution_count": null,
   "id": "bac003b1-4347-4e50-9d94-153e450b8d90",
   "metadata": {},
   "outputs": [],
   "source": [
    "library(tidyverse)\n",
    "library(plotly)\n",
    "library(dcmodify)\n",
    "library(simputation)\n",
    "library(lumberjack)"
   ]
  },
  {
   "cell_type": "markdown",
   "id": "f4546ebc-1e18-4bfa-9859-fff7b08798d0",
   "metadata": {},
   "source": [
    "# Datasett som skal bli brukt i eksempel\n",
    "\n",
    "Datasettet heter women og innholder vekt og høyde til 15 kvinnene"
   ]
  },
  {
   "cell_type": "code",
   "execution_count": null,
   "id": "efb015d5-fccf-4d77-b579-880ce0905d65",
   "metadata": {},
   "outputs": [],
   "source": [
    "#Load data----\n",
    "data(women)\n",
    "# Omgjør til norske enheter kg og cm\n",
    "women <- women %>% mutate(hoyde = round(height*2.54,1), vekt = round(weight*0.453592,1))\n",
    "women\n",
    "\n",
    "# Lager grafikk                 \n",
    "fig1 <- women %>% \n",
    "       plot_ly( x = ~hoyde, y= ~vekt,\n",
    "        type =\"scatter\",mode =\"markers\",              \n",
    "        hovertemplate = paste(     \n",
    "      \"%{yaxis.title.text}: %{y:}<br>\",\n",
    "      \"%{xaxis.title.text}: %{x:}<br>\",\n",
    "      \"<extra></extra>\"\n",
    "      ) ) %>%\n",
    "       layout(title = \"Datasettet Women\", xaxis = list(title = \"Høyde\"),\n",
    "        yaxis = list(title = \"Vekt\") )\n",
    "fig1  \n"
   ]
  },
  {
   "cell_type": "markdown",
   "id": "4ef815e7-00aa-4fb1-bfac-9daa4dba0565",
   "metadata": {},
   "source": [
    "Legger inn noen feil i datasettet og beregner KMI (BMI)"
   ]
  },
  {
   "cell_type": "code",
   "execution_count": null,
   "id": "932ef2b1-5183-4752-bf72-69a6a6902a6b",
   "metadata": {},
   "outputs": [],
   "source": [
    "#Introdusere feil----\n",
    "women$hoyde[10] <- women$height[10] #svare i foot istedenor cm\n",
    "women$hoyde[8] <- -women$hoyde[8] #tastet inn - negativt tall\n",
    "women <- women %>% mutate(kmi= vekt/(hoyde/100)^2)\n",
    "women$kmi[c(2,5)] <- NA\n",
    "\n",
    "\n",
    "# Lager grafikk                 \n",
    "fig2 <- women %>% \n",
    "       plot_ly( x = ~hoyde, y= ~vekt,\n",
    "        type =\"scatter\",mode =\"markers\",              \n",
    "        hovertemplate = paste(     \n",
    "      \"%{yaxis.title.text}: %{y:}<br>\",\n",
    "      \"%{xaxis.title.text}: %{x:}<br>\",\n",
    "      \"<extra></extra>\"\n",
    "      ) ) %>%\n",
    "       layout(title = \"Datasettet Women\", xaxis = list(title = \"Høyde\"),\n",
    "        yaxis = list(title = \"Vekt\") )\n",
    "fig2\n",
    "\n",
    "fig3 <- women %>% \n",
    "       plot_ly( x = ~hoyde, y= ~kmi,\n",
    "        type =\"scatter\",mode =\"markers\",              \n",
    "        hovertemplate = paste(     \n",
    "      \"%{yaxis.title.text}: %{y:}<br>\",\n",
    "      \"%{xaxis.title.text}: %{x:}<br>\",\n",
    "      \"<extra></extra>\"\n",
    "      ) ) %>%\n",
    "       layout(title = \"Datasettet Women\", xaxis = list(title = \"Høyde\"),\n",
    "        yaxis = list(title = \"KMI\") )\n",
    "fig3"
   ]
  },
  {
   "cell_type": "markdown",
   "id": "c6ceb9a3-d825-4320-885e-4efe8cac72a0",
   "metadata": {},
   "source": [
    "#### Setter opp regelretting med pakken dcmodify"
   ]
  },
  {
   "cell_type": "code",
   "execution_count": null,
   "id": "d0ad94ae-27c1-40ee-a481-3222cf55dce7",
   "metadata": {},
   "outputs": [],
   "source": [
    "#reglene\n",
    "\n",
    "m <- modifier(if(hoyde < 0) hoyde <- abs(hoyde),\n",
    "              if(hoyde < 145) hoyde <- round(hoyde*2.54),\n",
    "              if(is.na(kmi) | kmi > 40 ) kmi <- vekt/(hoyde/100)^2) \n",
    "\n",
    "#Kjører regelrettingen              \n",
    "women_out1 <- modify(women, m)\n",
    "\n"
   ]
  },
  {
   "cell_type": "code",
   "execution_count": null,
   "id": "fb1bd6d4-f3d0-4da5-af08-80472b37f953",
   "metadata": {},
   "outputs": [],
   "source": [
    "# Lager grafikk                 \n",
    "fig2 <- women_out1 %>% \n",
    "       plot_ly( x = ~hoyde, y= ~vekt,\n",
    "        type =\"scatter\",mode =\"markers\",              \n",
    "        hovertemplate = paste(     \n",
    "      \"%{yaxis.title.text}: %{y:}<br>\",\n",
    "      \"%{xaxis.title.text}: %{x:}<br>\",\n",
    "      \"<extra></extra>\"\n",
    "      ) ) %>%\n",
    "       layout(title = \"Datasettet Women\", xaxis = list(title = \"Høyde\"),\n",
    "        yaxis = list(title = \"Vekt\") )\n",
    "fig2\n",
    "\n",
    "fig3 <- women_out1 %>% \n",
    "       plot_ly( x = ~hoyde, y= ~kmi,\n",
    "        type =\"scatter\",mode =\"markers\",              \n",
    "        hovertemplate = paste(     \n",
    "      \"%{yaxis.title.text}: %{y:}<br>\",\n",
    "      \"%{xaxis.title.text}: %{x:}<br>\",\n",
    "      \"<extra></extra>\"\n",
    "      ) ) %>%\n",
    "       layout(title = \"Datasettet Women\", xaxis = list(title = \"Høyde\"),\n",
    "        yaxis = list(title = \"KMI\") )\n",
    "fig3"
   ]
  },
  {
   "cell_type": "markdown",
   "id": "3c10c3a6-6920-49d4-8c3c-78adf574abb2",
   "metadata": {},
   "source": [
    "# Del 2 imputering med donor og modeller pakken simpultation"
   ]
  },
  {
   "cell_type": "code",
   "execution_count": null,
   "id": "7d9977ff-522b-467f-935e-705755979515",
   "metadata": {},
   "outputs": [],
   "source": [
    "#Load data----\n",
    "data(women)\n",
    "\n",
    "women <- women %>% mutate(id =1:nrow(women), hoyde=round( height*2.54,1), vekt= round(weight*0.453592,1), \n",
    "                          kmi= round(vekt/(hoyde/100)^2,1),kmi_org= round(vekt/(hoyde/100)^2,1))\n",
    "women$kmi[c(2,5,8, 9)] <- NA # Fjerner 4 verdier som skal imputeres\n",
    "women <- women %>% mutate( imp=ifelse(is.na(kmi), 2, 1))\n",
    "\n",
    "women\n",
    "\n",
    "fig <- women %>% \n",
    "       plot_ly( x = ~hoyde, y= ~kmi,\n",
    "        type =\"scatter\",mode =\"markers\",              \n",
    "        hovertemplate = paste(     \n",
    "      \"%{yaxis.title.text}: %{y:}<br>\",\n",
    "      \"%{xaxis.title.text}: %{x:}<br>\",\n",
    "      \"<extra></extra>\"\n",
    "      ) ) %>%\n",
    "       layout(title = \"Datasettet Women\", xaxis = list(title = \"Høyde\"),\n",
    "        yaxis = list(title = \"KMI\") )\n",
    "fig"
   ]
  },
  {
   "cell_type": "markdown",
   "id": "8fa504b1-3f36-4125-8da9-14179917f8b7",
   "metadata": {},
   "source": [
    "# Imputering med gjennomsnittet"
   ]
  },
  {
   "cell_type": "code",
   "execution_count": null,
   "id": "42287f10-bf1e-4bd3-ba5d-5497b7c1b8ea",
   "metadata": {},
   "outputs": [],
   "source": [
    "#gjennomsnitts-imputering\n",
    "women_1 <-women %>% impute_proxy(kmi ~ mean(kmi, na.rm = TRUE)) %>% mutate(feil=(kmi-kmi_org)^2)\n",
    "\n",
    "rmse1 <-women_1 %>%summarize( round(sqrt(sum(feil)/15),2))\n",
    "rmse1\n",
    "\n",
    "fig <- women_1 %>% \n",
    "       plot_ly( x = ~hoyde, y= ~kmi,\n",
    "        type =\"scatter\",mode =\"markers\",split = ~imp,             \n",
    "        hovertemplate = paste(     \n",
    "      \"%{yaxis.title.text}: %{y:}<br>\",\n",
    "      \"%{xaxis.title.text}: %{x:}<br>\",\n",
    "      \"<extra></extra>\"\n",
    "      ) ) %>%\n",
    "       layout(title = \"Gjennomsitts imputering\", xaxis = list(title = \"Høyde\"),\n",
    "        yaxis = list(title = \"KMI\") , legend=list(title=list(text='Outlier:')))\n",
    "fig"
   ]
  },
  {
   "cell_type": "markdown",
   "id": "3f8b8de0-04e2-4a1e-98b6-50ad3a0c62c8",
   "metadata": {},
   "source": [
    "# Imputering med gjennomsnittet i gruppen"
   ]
  },
  {
   "cell_type": "code",
   "execution_count": null,
   "id": "6ef6a68c-5a53-4f4d-b4da-77847c94499c",
   "metadata": {},
   "outputs": [],
   "source": [
    "# Lager grupperingsvariabel\n",
    "women <- women %>% mutate(gruppe=cut(women$hoyde, breaks = c(0, 155, 165, 175, 190),labels = c(\"gr1\", \"gr2\", \"gr3\", \"gr4\")))\n",
    "women_2 <- women %>% impute_proxy(kmi ~ mean(kmi, na.rm = TRUE)|gruppe) %>% mutate(feil=(kmi-kmi_org)^2)\n",
    "\n",
    "rmse2 <-women_2 %>%summarize( round(sqrt(sum(feil)/15),2))\n",
    "rmse2\n",
    "\n",
    "\n",
    "vline <- function(x = 0, color = \"red\") {\n",
    "  list(\n",
    "    type = \"line\", \n",
    "    y0 = 0, \n",
    "    y1 = 1, \n",
    "    yref = \"paper\",\n",
    "    x0 = x, \n",
    "    x1 = x, \n",
    "    line = list(color = color)\n",
    "  )\n",
    "}\n",
    "\n",
    "fig2 <- women_2 %>% \n",
    "       plot_ly( x = ~hoyde, y= ~kmi,\n",
    "        type =\"scatter\",mode =\"markers\",split = ~imp,             \n",
    "        hovertemplate = paste(     \n",
    "      \"%{yaxis.title.text}: %{y:}<br>\",\n",
    "      \"%{xaxis.title.text}: %{x:}<br>\",\n",
    "      \"<extra></extra>\"\n",
    "      ) ) %>%\n",
    "       layout(title = \"Gjennomsitts imputering per gruppe \", xaxis = list(title = \"Høyde\"),\n",
    "        yaxis = list(title = \"KMI\") , legend=list(title=list(text='Outlier:')),\n",
    "         shapes= list(vline(155), vline(165), vline(175)))\n",
    "fig2\n",
    "#layout(shapes = list(vline(4), hline(5)))"
   ]
  },
  {
   "cell_type": "markdown",
   "id": "b349022e-3266-4adf-955c-4e686bc00303",
   "metadata": {},
   "source": [
    "# Nærmeste nabo imputering\n",
    "\n"
   ]
  },
  {
   "cell_type": "code",
   "execution_count": null,
   "id": "af126517-d822-45a0-917c-801e90b3fa96",
   "metadata": {},
   "outputs": [],
   "source": [
    "\n",
    "women_3 <- women %>% impute_knn(kmi ~ vekt + hoyde, k = 1)  %>% mutate(feil=(kmi-kmi_org)^2)\n",
    "\n",
    "\n",
    "\n",
    "rmse3 <-women_3 %>%summarize( round(sqrt(sum(feil)/15),2))\n",
    "rmse3\n",
    "\n",
    "fig3 <- women_3 %>% \n",
    "       plot_ly( x = ~hoyde, y= ~kmi,\n",
    "        type =\"scatter\",mode =\"markers\",split = ~imp,             \n",
    "        hovertemplate = paste(     \n",
    "      \"%{yaxis.title.text}: %{y:}<br>\",\n",
    "      \"%{xaxis.title.text}: %{x:}<br>\",\n",
    "      \"<extra></extra>\"\n",
    "      ) ) %>%\n",
    "       layout(title = \"Nærmeste nabo imputering\", xaxis = list(title = \"Høyde\"),\n",
    "        yaxis = list(title = \"KMI\") , legend=list(title=list(text='Outlier:')))\n",
    "fig3"
   ]
  },
  {
   "cell_type": "markdown",
   "id": "46429123-7624-495c-8d33-7b96771824c5",
   "metadata": {},
   "source": [
    "# Imputering med lineær regresjon"
   ]
  },
  {
   "cell_type": "code",
   "execution_count": null,
   "id": "bd954bc4-9438-4bd1-9e91-97e37849e0fb",
   "metadata": {},
   "outputs": [],
   "source": [
    "# Sjekker først modellen\n",
    "\n",
    "fit <- lm(data=women, kmi ~ hoyde ) \n",
    "summary(fit)\n",
    "plot_reg <-women %>% filter(!is.na(kmi)) %>% mutate(pred=predict(fit)) %>%\n",
    "  plot_ly(x=~hoyde, y=~kmi, type =\"scatter\",mode =\"markers\") %>%\n",
    "     add_trace(y =~pred , mode = 'lines') \n",
    "plot_reg\n"
   ]
  },
  {
   "cell_type": "code",
   "execution_count": null,
   "id": "af6c3f0e-f946-4da6-a0ff-ecc4a357ba6b",
   "metadata": {},
   "outputs": [],
   "source": [
    "# Imouterer med modellen\n",
    "women_4 <- women %>% impute_lm(kmi ~ hoyde ) %>%  mutate(feil=(kmi-kmi_org)^2)\n",
    "\n",
    "rmse4 <-women_4 %>%summarize( round(sqrt(sum(feil)/15),2))\n",
    "rmse4\n",
    "\n",
    "\n",
    "fig4 <- women_4 %>% \n",
    "       plot_ly( x = ~hoyde, y= ~kmi,\n",
    "        type =\"scatter\",mode =\"markers\",split = ~imp,             \n",
    "        hovertemplate = paste(     \n",
    "      \"%{yaxis.title.text}: %{y:}<br>\",\n",
    "      \"%{xaxis.title.text}: %{x:}<br>\",\n",
    "      \"<extra></extra>\"\n",
    "      ) ) %>%\n",
    "       layout(title = \"Regresjons imputering\", xaxis = list(title = \"Høyde\"),\n",
    "        yaxis = list(title = \"KMI\") , legend=list(title=list(text='Outlier:')))\n",
    "    \n",
    "             \n",
    " \n",
    "fig4\n"
   ]
  },
  {
   "cell_type": "code",
   "execution_count": null,
   "id": "319c8d89-e84b-47a4-9351-cc63112f1943",
   "metadata": {},
   "outputs": [],
   "source": [
    "#pmm, predictor = impute_lm\n",
    "women_6<-women %>% impute_pmm(kmi ~ vekt + hoyde) \n",
    "women_6$feil <- (women_6$kmi-women_6$kmi_org)^2\n",
    "rmse6 <-round(sqrt(sum(women_6$feil)/15),2)\n",
    "\n",
    "plot(women_6$hoyde, women_6$kmi,col=women_6$imp,xlab=\"h?yde\", ylab=\"kmi\", pch = 19, main=paste(\"predictiv mean matching. RMSE: \", rmse6))\n",
    "legend(\"topright\", legend = paste(c(\"Observert\", \"Imputert\")), col = 1:2, pch = 19, bty = \"n\")\n",
    "lines(women_5$hoyde,predict(linear_model,women), col=\"red\")\n",
    "?impute_shd\n",
    "\n",
    "# random hotdeck\n",
    "women_7<-women %>% impute_rhd(kmi ~ 1, pool = \"complete\" ) \n",
    "women_7$feil <- (women_7$kmi-women_7$kmi_org)^2\n",
    "rmse7 <-round(sqrt(sum(women_7$feil)/15),2)\n",
    "\n",
    "plot(women_7$hoyde, women_7$kmi,col=women_7$imp,xlab=\"h?yde\", ylab=\"kmi\", pch = 19, main=paste(\"Random hotdeck. RMSE: \", rmse7))\n",
    "legend(\"topright\", legend = paste(c(\"Observert\", \"Imputert\")), col = 1:2, pch = 19, bty = \"n\")\n",
    "\n",
    "# random hotdeck gruppert\n",
    "women_8<-women %>% impute_rhd(kmi ~ 1| gruppe, pool = \"complete\" ) \n",
    "women_8$feil <- (women_8$kmi-women_8$kmi_org)^2\n",
    "rmse8 <-round(sqrt(sum(women_8$feil)/15),2)\n",
    "\n",
    "plot(women_8$hoyde, women_8$kmi,col=women_8$imp,xlab=\"h?yde\", ylab=\"kmi\", pch = 19, main=paste(\"Random hotdeck. RMSE: \", rmse8))\n",
    "legend(\"topright\", legend = paste(c(\"Observert\", \"Imputert\")), col = 1:2, pch = 19, bty = \"n\")\n",
    "abline(v = c(155,165,175))\n"
   ]
  }
 ],
 "metadata": {
  "kernelspec": {
   "display_name": "R",
   "language": "R",
   "name": "ir"
  },
  "language_info": {
   "codemirror_mode": "r",
   "file_extension": ".r",
   "mimetype": "text/x-r-source",
   "name": "R",
   "pygments_lexer": "r",
   "version": "4.1.3"
  }
 },
 "nbformat": 4,
 "nbformat_minor": 5
}
