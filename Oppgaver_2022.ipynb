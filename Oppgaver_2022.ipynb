{
 "cells": [
  {
   "cell_type": "markdown",
   "id": "d9574cd8-998c-4873-bd79-9ca102655c2c",
   "metadata": {},
   "source": [
    "# Oppgaver i kurs i imputering\n",
    "\n",
    "Datasettet som skal brukes for oppgaver i dette kurset er avtale årsverk fyioterapeauter i kommunen.\n",
    "Datasettet heter fysio og er hentet fra statistikkbanken.\n",
    "Det blir publisert både foreløpige tall 15. mars og endelige tall 15. juni. \n",
    "Når det publiseres 15. mars er det ca 5 prosent frafall og dette trenger vi å imputere for å lage\n",
    "Landstall og andre aggregater. \n",
    "\n",
    "## Variabler datasett fysio\n",
    "* 'kommnr' - Nummer for kommune\n",
    "* 'Kommune' - Navn og nummer for kummune \n",
    "* 'arsverk_2020' - Avtale årsverk fysiterapeuter 2020\n",
    "* 'arsverk_2021_for' Avtale årsverk fysiterapeuter 2021, 15. mars foreløpige tall\n",
    "* 'Brutto_driftsutgifter_helse_2021' - Driftsutgifter for helse i 2021\n",
    "* 'Folkemengde_2021' - folkemengden 1.1.2021\n",
    "* 'arsverk_2021_end' - Avtale årsverk fysiterapeuter 2021, 15. juni endelige  tall\n",
    "* 'kostragr' - Kostragruppe\n",
    "* 'kostranavn' - Navn på kostragruppe\n",
    "* 'kommnavn' - kommue navn\n",
    "*  'imp' - 1 ikke imputert, 2 imputert\n",
    "\n"
   ]
  },
  {
   "cell_type": "code",
   "execution_count": null,
   "id": "642a96f2-6303-4e01-85d9-4ab1435d7c82",
   "metadata": {},
   "outputs": [],
   "source": [
    "#Pakker som blir brukt i kurset\n",
    "library(tidyverse) # språk for koding\n",
    "library(plotly) # Interaktivt figurer\n",
    "library(dcmodify) # regelimputering\n",
    "library(simputation) # imputeringsmetoder\n",
    "library(lumberjack) #  logging av endringer"
   ]
  },
  {
   "cell_type": "markdown",
   "id": "fe66014c-bd63-478e-99d3-84023e066f19",
   "metadata": {},
   "source": [
    "# Oppgave 1. Frafall og historisk imputering\n",
    "### 1a) Les inn datasett fysio og beregn frafallet i foreløpige tall\n",
    "* Først les inn datasettet fysio.scv. det er kommaseparert med punktum som desimaltegn. \n",
    "  (Hint read_csv2, pga en bug i pakken simputation som vi skal bruke senere omgjør datasettet til dataframe as.data.frame)\n",
    "* Sjekk at du har fått lest inn datasettet riktig. \n",
    "  (hint head)\n",
    "* Finn antall observasjoner og missing og beregn frafallsprosenten for variabelen arsverk_2021_for\n"
   ]
  },
  {
   "cell_type": "code",
   "execution_count": null,
   "id": "56dfdfc6-bff8-4bcc-befd-c667c04b56eb",
   "metadata": {},
   "outputs": [],
   "source": [
    "\n"
   ]
  },
  {
   "cell_type": "markdown",
   "id": "90be8752-4698-41be-93e5-604cebb110c5",
   "metadata": {},
   "source": [
    "### 1b) Hva er konsekvensene av å ignorere frafallet? \n",
    "* Hint beregn sum av årsverk 2020, foreløpig og endelige tall 2021\n"
   ]
  },
  {
   "cell_type": "code",
   "execution_count": null,
   "id": "41882514-a02f-4c23-82a5-1c059a79078a",
   "metadata": {},
   "outputs": [],
   "source": []
  },
  {
   "cell_type": "markdown",
   "id": "d37d82e2-c337-48e0-a5fc-ea93eb1086af",
   "metadata": {},
   "source": [
    "### 1c) Imputer frafallet i foreløpige tall med forrige års verdi og vurder resultatet.\n",
    "* Hvor god sammenheng er det mellom to årganger av årsverk fysioterapeuter?\n",
    "* Imputer frafallet med historisk imputering\n",
    "* Hva blir totalen nå?\n",
    "* Hvor stor blir feilen - RMSE? sammenlign med endelige tall\n",
    "* Bruk grafikk til å vurder hvor god metoden er. Lag et scatterplot for å sammenligne foreløpige og endelige tall"
   ]
  },
  {
   "cell_type": "code",
   "execution_count": null,
   "id": "4cbb7ece-4342-4364-994e-8f4aa71fa063",
   "metadata": {},
   "outputs": [],
   "source": []
  },
  {
   "cell_type": "markdown",
   "id": "3b19ae90-826c-4f94-978a-7088c871eef9",
   "metadata": {},
   "source": [
    "# Oppgave 2 testing av imputeringsmetoder\n"
   ]
  },
  {
   "cell_type": "markdown",
   "id": "b5302fe5-fa89-4cc5-a615-a33d457328cf",
   "metadata": {},
   "source": [
    "### 2a Imputer med gjennomsnittet innen hver kostragruppe og vurder resultatet. \n",
    "*     Hva blir totalen nå?\n",
    "*     Hvor stor blir feilen - RMSE? sammenlign med endelige tall\n",
    "*     Bruk grafikk til å vurder hvor god metoden er i kostragruppe 6. Lag et scatterplot for å sammenligne foreløpige og endelige tall\n",
    "\n"
   ]
  },
  {
   "cell_type": "code",
   "execution_count": null,
   "id": "22e600e5-4e3e-4fcb-8861-98e498d41425",
   "metadata": {},
   "outputs": [],
   "source": [
    "\n",
    "\n"
   ]
  },
  {
   "cell_type": "markdown",
   "id": "4c098aa0-4896-40f9-b662-70688b835701",
   "metadata": {},
   "source": [
    "### 2b Imputer med random hotdeck innen hver kostragruppe.\n",
    "*     Set en seed for tilfeldig trekking set.seed() \n",
    "*     Kjør Hotdeck imputering med bruk pool= \"complete\"\n",
    "*     Hva blir totalen nå?\n",
    "*     Hvor stor blir feilen - RMSE? sammenlign med endelige tall\n",
    "*     Bruk grafikk til å vurder hvor god metoden er i kostra gruppe 6. Lag et scatterplot for å sammenligne foreløpige og endelige tall"
   ]
  },
  {
   "cell_type": "code",
   "execution_count": null,
   "id": "e34d2154-937e-45cb-8f13-3152e82da88c",
   "metadata": {},
   "outputs": [],
   "source": [
    "\n"
   ]
  },
  {
   "cell_type": "markdown",
   "id": "dd89c605-ad74-4df2-863e-ae72c799a2ed",
   "metadata": {},
   "source": [
    "### 2c Imputer med nærmeste nabo imputering innen hver kostragruppe.\n",
    "*     Velg hvilke variabler nærmeste nabo skal beregnes fra og kjør imputering med k=1\n",
    "*     Hva blir totalen nå?\n",
    "*     Hvor stor blir feilen - RMSE? sammenlign med endelige tall\n",
    "*     Bruk grafikk til å vurder hvor god metoden er i kostragruppe 6. Lag et scatterplot for å sammenligne foreløpige og endelige tall"
   ]
  },
  {
   "cell_type": "code",
   "execution_count": null,
   "id": "2ccf9811-3b4a-4db8-a652-4c29ca4531c3",
   "metadata": {},
   "outputs": [],
   "source": [
    "\n"
   ]
  },
  {
   "cell_type": "markdown",
   "id": "0470fadd-5151-4c9c-81ff-b07c34485a65",
   "metadata": {},
   "source": [
    "### 2d Imputer med regresjonsimputering innen hver kostragruppe.\n",
    "*     Velg variabler som forklaringsvariabler\n",
    "*     Test gjerne om du har en god modellen med bruk av vanlig regresjonfunksjon (lm) og grafikk\n",
    "*     Hva blir totalen nå?\n",
    "*     Hvor stor blir feilen - RMSE? sammenlign med endelige tall\n",
    "*     Bruk grafikk til å vurder hvor god metoden er. Lag et scatterplot for å sammenligne foreløpige og endelige tall"
   ]
  },
  {
   "cell_type": "code",
   "execution_count": null,
   "id": "53d7e7d9-6d50-42fc-91e8-89b4217c2d9f",
   "metadata": {},
   "outputs": [],
   "source": []
  },
  {
   "cell_type": "markdown",
   "id": "13387039-1c18-4fc7-9384-a6bb2d30b541",
   "metadata": {},
   "source": [
    "### 2e Imputer med prediktiv mean matching innen hver kostragruppe.\n",
    "*     Velg variabler som forklaringsvariabler og kjør imputering\n",
    "*     Hva blir totalen nå?\n",
    "*     Hvor stor blir feilen - RMSE? sammenlign med endelige tall\n",
    "*     Hvordan ser det ut grafisk for kostra gruppe 6? sammenlign med endelige tal"
   ]
  },
  {
   "cell_type": "code",
   "execution_count": null,
   "id": "5e74b366-12ca-40b0-81d4-c44a3800adb2",
   "metadata": {},
   "outputs": [],
   "source": []
  },
  {
   "cell_type": "markdown",
   "id": "10549fcf-6535-4d70-b64f-d9812ed504c8",
   "metadata": {},
   "source": [
    "# Oppgave 3. Velg endelig modell for imputering og sett opp logging av endring av verdier og total\n",
    "\n"
   ]
  },
  {
   "cell_type": "code",
   "execution_count": null,
   "id": "b6f338bf-a137-4383-a8b2-fb7b2847208f",
   "metadata": {},
   "outputs": [],
   "source": []
  }
 ],
 "metadata": {
  "kernelspec": {
   "display_name": "R",
   "language": "R",
   "name": "ir"
  },
  "language_info": {
   "codemirror_mode": "r",
   "file_extension": ".r",
   "mimetype": "text/x-r-source",
   "name": "R",
   "pygments_lexer": "r",
   "version": "4.1.3"
  }
 },
 "nbformat": 4,
 "nbformat_minor": 5
}
