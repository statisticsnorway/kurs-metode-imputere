{
 "cells": [
  {
   "cell_type": "markdown",
   "id": "3073a9f8-d322-46d9-b123-3c9883ad15e7",
   "metadata": {},
   "source": [
    "# Dette er en test"
   ]
  },
  {
   "cell_type": "code",
   "execution_count": null,
   "id": "fac2a6ae-a28c-44ba-8784-ad48266becb7",
   "metadata": {},
   "outputs": [],
   "source": [
    "#Dette er en kommentar"
   ]
  },
  {
   "cell_type": "code",
   "execution_count": null,
   "id": "e2d0eac9-d25c-4307-a88f-fea6d49f7e14",
   "metadata": {},
   "outputs": [],
   "source": []
  }
 ],
 "metadata": {
  "kernelspec": {
   "display_name": "R",
   "language": "R",
   "name": "ir"
  },
  "language_info": {
   "codemirror_mode": "r",
   "file_extension": ".r",
   "mimetype": "text/x-r-source",
   "name": "R",
   "pygments_lexer": "r",
   "version": "4.1.3"
  }
 },
 "nbformat": 4,
 "nbformat_minor": 5
}
